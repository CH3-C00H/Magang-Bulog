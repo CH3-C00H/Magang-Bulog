{
  "nbformat": 4,
  "nbformat_minor": 0,
  "metadata": {
    "colab": {
      "name": "Lampiran Bulog.ipynb",
      "provenance": [],
      "collapsed_sections": [
        "CuHbzbNaTMJF"
      ]
    },
    "kernelspec": {
      "name": "python3",
      "display_name": "Python 3"
    },
    "language_info": {
      "name": "python"
    }
  },
  "cells": [
    {
      "cell_type": "markdown",
      "metadata": {
        "id": "AACVfH6GXZ_Q"
      },
      "source": [
        "#IMPORT PACKAGE"
      ]
    },
    {
      "cell_type": "code",
      "metadata": {
        "id": "u-7t5lKuMwIV"
      },
      "source": [
        "import pandas as pd\n",
        "import numpy as np\n",
        "import matplotlib.pyplot as plt\n",
        "from matplotlib.pyplot import figure\n",
        "from matplotlib.pyplot import axes"
      ],
      "execution_count": 71,
      "outputs": []
    },
    {
      "cell_type": "markdown",
      "metadata": {
        "id": "elPRW_8UXdHQ"
      },
      "source": [
        "#DATA CLEANING"
      ]
    },
    {
      "cell_type": "code",
      "metadata": {
        "id": "VSQCHhjWNDNY"
      },
      "source": [
        "df = pd.read_excel(\"/content/UNS 2018.xlsx\")\n",
        "df.to_csv(\"/content/uns_2018.csv\")\n",
        "pd2018 = pd.read_csv(\"/content/uns_2018.csv\")\n",
        "##############\n",
        "df = pd.read_excel(\"/content/UNS 2019.xlsx\")\n",
        "df.to_csv(\"/content/uns_2019.csv\")\n",
        "pd2019 = pd.read_csv(\"/content/uns_2019.csv\")\n",
        "##############\n",
        "df = pd.read_excel(\"/content/UNS 2020.xlsx\")\n",
        "df.to_csv(\"/content/uns_2020.csv\")\n",
        "pd2020 = pd.read_csv(\"/content/uns_2020.csv\")\n",
        "##############\n",
        "df = pd.read_excel(\"/content/UNS 2021.xlsx\")\n",
        "df.to_csv(\"/content/uns_2021.csv\")\n",
        "pd2021 = pd.read_csv(\"/content/uns_2021.csv\")"
      ],
      "execution_count": 73,
      "outputs": []
    },
    {
      "cell_type": "code",
      "metadata": {
        "colab": {
          "base_uri": "https://localhost:8080/",
          "height": 343
        },
        "id": "Vul2ynlX207L",
        "outputId": "11965128-08c9-47d0-b070-8b3b6be57676"
      },
      "source": [
        "df2018 = pd2018.rename(columns={\"Saluran (Kategori RKAP)\":\"Saluran_Kategori_RKAP\",\"Nama Pembeli\":\"Nama_Pembeli\",\"Nama Komoditi\":\"Nama_Komoditi\",\"Jenis Komoditi\":\"Jenis_Komoditi\",\"Merk Komoditi\":\"Merk_Komoditi\"\n",
        ",\"Kolli DO\":\"Koli_DO\",\"Kuantum DO (Kg/L)\":\"Kuantum_DO\",\"Kolli Terjual\":\"Koli_Terjual\",\"Kuantum Terjual (Kg/L)\":\"Kuantum_Terjual\"}) #Rename\n",
        "df2018 = df2018.drop(\"Unnamed: 0\",axis=1) #Remove kolom yang tidak terpakai\n",
        "Kemasan_fix = df2018[\"Kemasan\"].str.replace(',','.').astype(float) #ubah notasi   \n",
        "df2018[\"Kemasan\"] = Kemasan_fix #masukin ke dataframe\n",
        "df2018.head()"
      ],
      "execution_count": 90,
      "outputs": [
        {
          "output_type": "execute_result",
          "data": {
            "text/html": [
              "<div>\n",
              "<style scoped>\n",
              "    .dataframe tbody tr th:only-of-type {\n",
              "        vertical-align: middle;\n",
              "    }\n",
              "\n",
              "    .dataframe tbody tr th {\n",
              "        vertical-align: top;\n",
              "    }\n",
              "\n",
              "    .dataframe thead th {\n",
              "        text-align: right;\n",
              "    }\n",
              "</style>\n",
              "<table border=\"1\" class=\"dataframe\">\n",
              "  <thead>\n",
              "    <tr style=\"text-align: right;\">\n",
              "      <th></th>\n",
              "      <th>No</th>\n",
              "      <th>Tanggal</th>\n",
              "      <th>Saluran</th>\n",
              "      <th>Saluran_Kategori_RKAP</th>\n",
              "      <th>Nama_Pembeli</th>\n",
              "      <th>Nama_Komoditi</th>\n",
              "      <th>Jenis_Komoditi</th>\n",
              "      <th>Merk_Komoditi</th>\n",
              "      <th>Kemasan</th>\n",
              "      <th>Satuan</th>\n",
              "      <th>Koli_DO</th>\n",
              "      <th>Kuantum_DO</th>\n",
              "      <th>Koli_Terjual</th>\n",
              "      <th>Kuantum_Terjual</th>\n",
              "    </tr>\n",
              "  </thead>\n",
              "  <tbody>\n",
              "    <tr>\n",
              "      <th>0</th>\n",
              "      <td>1</td>\n",
              "      <td>06-04-2018</td>\n",
              "      <td>RPK</td>\n",
              "      <td>RPK-NON BPNT/Program Sembako</td>\n",
              "      <td>JENDRA</td>\n",
              "      <td>DAGING KERBAU</td>\n",
              "      <td>HINDQUARTER</td>\n",
              "      <td>DAGING KERBAU POLOS</td>\n",
              "      <td>1.0</td>\n",
              "      <td>Kg</td>\n",
              "      <td>20</td>\n",
              "      <td>20.0</td>\n",
              "      <td>20</td>\n",
              "      <td>20.0</td>\n",
              "    </tr>\n",
              "    <tr>\n",
              "      <th>1</th>\n",
              "      <td>2</td>\n",
              "      <td>06-04-2018</td>\n",
              "      <td>RPK</td>\n",
              "      <td>RPK-NON BPNT/Program Sembako</td>\n",
              "      <td>JENDRA</td>\n",
              "      <td>MINYAK GORENG</td>\n",
              "      <td>MINYAK GORENG KITA</td>\n",
              "      <td>MINYAK GORENG KITA</td>\n",
              "      <td>1.0</td>\n",
              "      <td>L</td>\n",
              "      <td>28</td>\n",
              "      <td>28.0</td>\n",
              "      <td>28</td>\n",
              "      <td>28.0</td>\n",
              "    </tr>\n",
              "    <tr>\n",
              "      <th>2</th>\n",
              "      <td>3</td>\n",
              "      <td>06-04-2018</td>\n",
              "      <td>RPK</td>\n",
              "      <td>RPK-NON BPNT/Program Sembako</td>\n",
              "      <td>Irul Glompong</td>\n",
              "      <td>MINYAK GORENG</td>\n",
              "      <td>MINYAK GORENG</td>\n",
              "      <td>FAMILY</td>\n",
              "      <td>1.0</td>\n",
              "      <td>L</td>\n",
              "      <td>120</td>\n",
              "      <td>120.0</td>\n",
              "      <td>120</td>\n",
              "      <td>120.0</td>\n",
              "    </tr>\n",
              "    <tr>\n",
              "      <th>3</th>\n",
              "      <td>4</td>\n",
              "      <td>06-04-2018</td>\n",
              "      <td>RPK</td>\n",
              "      <td>RPK-NON BPNT/Program Sembako</td>\n",
              "      <td>Irul Glompong</td>\n",
              "      <td>MINYAK GORENG</td>\n",
              "      <td>MINYAK GORENG KITA</td>\n",
              "      <td>MINYAK GORENG KITA</td>\n",
              "      <td>1.0</td>\n",
              "      <td>L</td>\n",
              "      <td>120</td>\n",
              "      <td>120.0</td>\n",
              "      <td>120</td>\n",
              "      <td>120.0</td>\n",
              "    </tr>\n",
              "    <tr>\n",
              "      <th>4</th>\n",
              "      <td>5</td>\n",
              "      <td>06-04-2018</td>\n",
              "      <td>RPK</td>\n",
              "      <td>RPK-NON BPNT/Program Sembako</td>\n",
              "      <td>RPK MARGO SENENG</td>\n",
              "      <td>GULA</td>\n",
              "      <td>GKP EKS RAWSUGAR PT.DUS</td>\n",
              "      <td>GULA POLOS</td>\n",
              "      <td>50.0</td>\n",
              "      <td>Kg</td>\n",
              "      <td>2</td>\n",
              "      <td>100.0</td>\n",
              "      <td>2</td>\n",
              "      <td>100.0</td>\n",
              "    </tr>\n",
              "  </tbody>\n",
              "</table>\n",
              "</div>"
            ],
            "text/plain": [
              "   No     Tanggal Saluran  ... Kuantum_DO Koli_Terjual Kuantum_Terjual\n",
              "0   1  06-04-2018     RPK  ...       20.0           20            20.0\n",
              "1   2  06-04-2018     RPK  ...       28.0           28            28.0\n",
              "2   3  06-04-2018     RPK  ...      120.0          120           120.0\n",
              "3   4  06-04-2018     RPK  ...      120.0          120           120.0\n",
              "4   5  06-04-2018     RPK  ...      100.0            2           100.0\n",
              "\n",
              "[5 rows x 14 columns]"
            ]
          },
          "metadata": {},
          "execution_count": 90
        }
      ]
    },
    {
      "cell_type": "code",
      "metadata": {
        "colab": {
          "base_uri": "https://localhost:8080/",
          "height": 309
        },
        "id": "cP2ohkKKqCfA",
        "outputId": "72fd8c79-45a9-440b-bdd0-c2d5bfd51831"
      },
      "source": [
        "df2019 = pd2019.rename(columns={\"Saluran (Kategori RKAP)\":\"Saluran_Kategori_RKAP\",\"Nama Pembeli\":\"Nama_Pembeli\",\"Nama Komoditi\":\"Nama_Komoditi\",\"Jenis Komoditi\":\"Jenis_Komoditi\",\"Merk Komoditi\":\"Merk_Komoditi\"\n",
        ",\"Kolli DO\":\"Koli_DO\",\"Kuantum DO (Kg/L)\":\"Kuantum_DO\",\"Kolli Terjual\":\"Koli_Terjual\",\"Kuantum Terjual (Kg/L)\":\"Kuantum_Terjual\"}) #Rename\n",
        "df2019 = df2019.drop(\"Unnamed: 0\",axis=1) #Remove kolom yang tidak terpakai\n",
        "Kemasan_fix = df2019[\"Kemasan\"].str.replace(',','.').astype(float) #ubah notasi   \n",
        "df2019[\"Kemasan\"] = Kemasan_fix #masukin ke dataframe\n",
        "df2019.head()"
      ],
      "execution_count": 91,
      "outputs": [
        {
          "output_type": "execute_result",
          "data": {
            "text/html": [
              "<div>\n",
              "<style scoped>\n",
              "    .dataframe tbody tr th:only-of-type {\n",
              "        vertical-align: middle;\n",
              "    }\n",
              "\n",
              "    .dataframe tbody tr th {\n",
              "        vertical-align: top;\n",
              "    }\n",
              "\n",
              "    .dataframe thead th {\n",
              "        text-align: right;\n",
              "    }\n",
              "</style>\n",
              "<table border=\"1\" class=\"dataframe\">\n",
              "  <thead>\n",
              "    <tr style=\"text-align: right;\">\n",
              "      <th></th>\n",
              "      <th>No</th>\n",
              "      <th>Tanggal</th>\n",
              "      <th>Saluran</th>\n",
              "      <th>Saluran_Kategori_RKAP</th>\n",
              "      <th>Nama_Pembeli</th>\n",
              "      <th>Nama_Komoditi</th>\n",
              "      <th>Jenis_Komoditi</th>\n",
              "      <th>Merk_Komoditi</th>\n",
              "      <th>Kemasan</th>\n",
              "      <th>Satuan</th>\n",
              "      <th>Koli_DO</th>\n",
              "      <th>Kuantum_DO</th>\n",
              "      <th>Koli_Terjual</th>\n",
              "      <th>Kuantum_Terjual</th>\n",
              "    </tr>\n",
              "  </thead>\n",
              "  <tbody>\n",
              "    <tr>\n",
              "      <th>0</th>\n",
              "      <td>1</td>\n",
              "      <td>01-01-2019</td>\n",
              "      <td>TOKO/AGEN/PENGECER</td>\n",
              "      <td>TOKO/AGEN/PENGECER</td>\n",
              "      <td>SRC Toko Widodo</td>\n",
              "      <td>GULA</td>\n",
              "      <td>GKP DN PT. GMM</td>\n",
              "      <td>MANIS KITA</td>\n",
              "      <td>1.0</td>\n",
              "      <td>Kg</td>\n",
              "      <td>1212</td>\n",
              "      <td>1212.0</td>\n",
              "      <td>1212</td>\n",
              "      <td>1212.0</td>\n",
              "    </tr>\n",
              "    <tr>\n",
              "      <th>1</th>\n",
              "      <td>2</td>\n",
              "      <td>01-01-2019</td>\n",
              "      <td>RPK</td>\n",
              "      <td>RPK-NON BPNT/Program Sembako</td>\n",
              "      <td>RPK Salimah 3</td>\n",
              "      <td>GULA</td>\n",
              "      <td>GKP DN PT. GMM</td>\n",
              "      <td>MANIS KITA</td>\n",
              "      <td>1.0</td>\n",
              "      <td>Kg</td>\n",
              "      <td>480</td>\n",
              "      <td>480.0</td>\n",
              "      <td>480</td>\n",
              "      <td>480.0</td>\n",
              "    </tr>\n",
              "    <tr>\n",
              "      <th>2</th>\n",
              "      <td>3</td>\n",
              "      <td>01-01-2019</td>\n",
              "      <td>RPK</td>\n",
              "      <td>RPK-NON BPNT/Program Sembako</td>\n",
              "      <td>RPK BNKL</td>\n",
              "      <td>DAGING KERBAU</td>\n",
              "      <td>HINDQUARTER</td>\n",
              "      <td>AL KABEER</td>\n",
              "      <td>1.0</td>\n",
              "      <td>Kg</td>\n",
              "      <td>1</td>\n",
              "      <td>1.0</td>\n",
              "      <td>1</td>\n",
              "      <td>1.0</td>\n",
              "    </tr>\n",
              "    <tr>\n",
              "      <th>3</th>\n",
              "      <td>4</td>\n",
              "      <td>01-01-2019</td>\n",
              "      <td>RPK</td>\n",
              "      <td>RPK-NON BPNT/Program Sembako</td>\n",
              "      <td>RPK MACAN KUMBANG</td>\n",
              "      <td>GULA</td>\n",
              "      <td>GKP DN PT. GMM</td>\n",
              "      <td>MANIS KITA</td>\n",
              "      <td>1.0</td>\n",
              "      <td>Kg</td>\n",
              "      <td>24</td>\n",
              "      <td>24.0</td>\n",
              "      <td>24</td>\n",
              "      <td>24.0</td>\n",
              "    </tr>\n",
              "    <tr>\n",
              "      <th>4</th>\n",
              "      <td>5</td>\n",
              "      <td>02-01-2019</td>\n",
              "      <td>RPK</td>\n",
              "      <td>RPK-NON BPNT/Program Sembako</td>\n",
              "      <td>RPK Ivana</td>\n",
              "      <td>GULA</td>\n",
              "      <td>GKP DN PT. GMM</td>\n",
              "      <td>MANIS KITA</td>\n",
              "      <td>1.0</td>\n",
              "      <td>Kg</td>\n",
              "      <td>24</td>\n",
              "      <td>24.0</td>\n",
              "      <td>24</td>\n",
              "      <td>24.0</td>\n",
              "    </tr>\n",
              "  </tbody>\n",
              "</table>\n",
              "</div>"
            ],
            "text/plain": [
              "   No     Tanggal  ... Koli_Terjual Kuantum_Terjual\n",
              "0   1  01-01-2019  ...         1212          1212.0\n",
              "1   2  01-01-2019  ...          480           480.0\n",
              "2   3  01-01-2019  ...            1             1.0\n",
              "3   4  01-01-2019  ...           24            24.0\n",
              "4   5  02-01-2019  ...           24            24.0\n",
              "\n",
              "[5 rows x 14 columns]"
            ]
          },
          "metadata": {},
          "execution_count": 91
        }
      ]
    },
    {
      "cell_type": "code",
      "metadata": {
        "colab": {
          "base_uri": "https://localhost:8080/",
          "height": 394
        },
        "id": "tZY82bRQQgJ3",
        "outputId": "9f68f7f0-e4de-4331-82f1-46a32e5bd308"
      },
      "source": [
        "df2020 = pd2020.rename(columns={\"Saluran (Kategori RKAP)\":\"Saluran_Kategori_RKAP\",\"Nama Pembeli\":\"Nama_Pembeli\",\"Nama Komoditi\":\"Nama_Komoditi\",\"Jenis Komoditi\":\"Jenis_Komoditi\",\"Merk Komoditi\":\"Merk_Komoditi\"\n",
        ",\"Kolli DO\":\"Koli_DO\",\"Kuantum DO (Kg/L)\":\"Kuantum_DO\",\"Kolli Terjual\":\"Koli_Terjual\",\"Kuantum Terjual (Kg/L)\":\"Kuantum_Terjual\"}) #Rename\n",
        "df2020 = df2020.drop(\"Unnamed: 0\",axis=1) #Remove kolom yang tidak terpakai\n",
        "Kemasan_fix = df2020[\"Kemasan\"].str.replace(',','.').astype(float) #ubah notasi   \n",
        "df2020[\"Kemasan\"] = Kemasan_fix #masukin ke dataframe\n",
        "df2020.head()"
      ],
      "execution_count": 92,
      "outputs": [
        {
          "output_type": "execute_result",
          "data": {
            "text/html": [
              "<div>\n",
              "<style scoped>\n",
              "    .dataframe tbody tr th:only-of-type {\n",
              "        vertical-align: middle;\n",
              "    }\n",
              "\n",
              "    .dataframe tbody tr th {\n",
              "        vertical-align: top;\n",
              "    }\n",
              "\n",
              "    .dataframe thead th {\n",
              "        text-align: right;\n",
              "    }\n",
              "</style>\n",
              "<table border=\"1\" class=\"dataframe\">\n",
              "  <thead>\n",
              "    <tr style=\"text-align: right;\">\n",
              "      <th></th>\n",
              "      <th>No</th>\n",
              "      <th>Tanggal</th>\n",
              "      <th>Saluran</th>\n",
              "      <th>Saluran_Kategori_RKAP</th>\n",
              "      <th>Nama_Pembeli</th>\n",
              "      <th>Nama_Komoditi</th>\n",
              "      <th>Jenis_Komoditi</th>\n",
              "      <th>Merk_Komoditi</th>\n",
              "      <th>Kemasan</th>\n",
              "      <th>Satuan</th>\n",
              "      <th>Koli_DO</th>\n",
              "      <th>Kuantum_DO</th>\n",
              "      <th>Koli_Terjual</th>\n",
              "      <th>Kuantum_Terjual</th>\n",
              "    </tr>\n",
              "  </thead>\n",
              "  <tbody>\n",
              "    <tr>\n",
              "      <th>0</th>\n",
              "      <td>1</td>\n",
              "      <td>02-01-2020</td>\n",
              "      <td>RESTORAN</td>\n",
              "      <td>HOREKA</td>\n",
              "      <td>Ayam Geprek Abang Ireng Outlet Gentan</td>\n",
              "      <td>BERAS</td>\n",
              "      <td>PREMIUM 15%</td>\n",
              "      <td>BERAS KITA PREMIUM</td>\n",
              "      <td>25.0</td>\n",
              "      <td>Kg</td>\n",
              "      <td>1</td>\n",
              "      <td>25.0</td>\n",
              "      <td>1</td>\n",
              "      <td>25.0</td>\n",
              "    </tr>\n",
              "    <tr>\n",
              "      <th>1</th>\n",
              "      <td>2</td>\n",
              "      <td>02-01-2020</td>\n",
              "      <td>HOTEL</td>\n",
              "      <td>HOREKA</td>\n",
              "      <td>Hotel Sahid Jaya</td>\n",
              "      <td>MINYAK GORENG</td>\n",
              "      <td>MINYAK GORENG KITA</td>\n",
              "      <td>MINYAK GORENG KITA</td>\n",
              "      <td>1.0</td>\n",
              "      <td>L</td>\n",
              "      <td>120</td>\n",
              "      <td>120.0</td>\n",
              "      <td>120</td>\n",
              "      <td>120.0</td>\n",
              "    </tr>\n",
              "    <tr>\n",
              "      <th>2</th>\n",
              "      <td>3</td>\n",
              "      <td>02-01-2020</td>\n",
              "      <td>HOTEL</td>\n",
              "      <td>HOREKA</td>\n",
              "      <td>Hotel Sahid Jaya</td>\n",
              "      <td>TEPUNG TERIGU</td>\n",
              "      <td>TERIGU KITA</td>\n",
              "      <td>TERIGU KITA</td>\n",
              "      <td>1.0</td>\n",
              "      <td>Kg</td>\n",
              "      <td>50</td>\n",
              "      <td>50.0</td>\n",
              "      <td>50</td>\n",
              "      <td>50.0</td>\n",
              "    </tr>\n",
              "    <tr>\n",
              "      <th>3</th>\n",
              "      <td>4</td>\n",
              "      <td>02-01-2020</td>\n",
              "      <td>RPK</td>\n",
              "      <td>RPK-NON BPNT/Program Sembako</td>\n",
              "      <td>RPK Ayam Geprek Bu Lasmini Manahan_Lestari1</td>\n",
              "      <td>MINYAK GORENG</td>\n",
              "      <td>MINYAK GORENG KITA</td>\n",
              "      <td>MINYAK GORENG KITA</td>\n",
              "      <td>1.0</td>\n",
              "      <td>L</td>\n",
              "      <td>48</td>\n",
              "      <td>48.0</td>\n",
              "      <td>48</td>\n",
              "      <td>48.0</td>\n",
              "    </tr>\n",
              "    <tr>\n",
              "      <th>4</th>\n",
              "      <td>5</td>\n",
              "      <td>02-01-2020</td>\n",
              "      <td>RPK</td>\n",
              "      <td>RPK-NON BPNT/Program Sembako</td>\n",
              "      <td>RPK Ayam Geprek Bu Lasmini Manahan_Lestari1</td>\n",
              "      <td>TEPUNG TERIGU</td>\n",
              "      <td>TERIGU KITA</td>\n",
              "      <td>TERIGU KITA</td>\n",
              "      <td>1.0</td>\n",
              "      <td>Kg</td>\n",
              "      <td>20</td>\n",
              "      <td>20.0</td>\n",
              "      <td>20</td>\n",
              "      <td>20.0</td>\n",
              "    </tr>\n",
              "  </tbody>\n",
              "</table>\n",
              "</div>"
            ],
            "text/plain": [
              "   No     Tanggal   Saluran  ... Kuantum_DO Koli_Terjual Kuantum_Terjual\n",
              "0   1  02-01-2020  RESTORAN  ...       25.0            1            25.0\n",
              "1   2  02-01-2020     HOTEL  ...      120.0          120           120.0\n",
              "2   3  02-01-2020     HOTEL  ...       50.0           50            50.0\n",
              "3   4  02-01-2020       RPK  ...       48.0           48            48.0\n",
              "4   5  02-01-2020       RPK  ...       20.0           20            20.0\n",
              "\n",
              "[5 rows x 14 columns]"
            ]
          },
          "metadata": {},
          "execution_count": 92
        }
      ]
    },
    {
      "cell_type": "code",
      "metadata": {
        "colab": {
          "base_uri": "https://localhost:8080/",
          "height": 326
        },
        "id": "jX-Ji-QNEanT",
        "outputId": "f70bc881-cb92-4ee4-f8ad-651ff0155b09"
      },
      "source": [
        "df2021 = pd2021.rename(columns={\"Saluran (Kategori RKAP)\":\"Saluran_Kategori_RKAP\",\"Nama Pembeli\":\"Nama_Pembeli\",\"Nama Komoditi\":\"Nama_Komoditi\",\"Jenis Komoditi\":\"Jenis_Komoditi\",\"Merk Komoditi\":\"Merk_Komoditi\"\n",
        ",\"Kolli DO\":\"Koli_DO\",\"Kuantum DO (Kg/L)\":\"Kuantum_DO\",\"Kolli Terjual\":\"Koli_Terjual\",\"Kuantum Terjual (Kg/L)\":\"Kuantum_Terjual\"}) #Rename\n",
        "df2021 = df2021.drop(\"Unnamed: 0\",axis=1) #Remove kolom yang tidak terpakai\n",
        "Kemasan_fix = df2021[\"Kemasan\"].str.replace(',','.').astype(float) #ubah notasi   \n",
        "df2021[\"Kemasan\"] = Kemasan_fix #masukin ke dataframe\n",
        "print(len(df2021[\"No\"]))\n",
        "df2021.head()"
      ],
      "execution_count": 93,
      "outputs": [
        {
          "output_type": "stream",
          "name": "stdout",
          "text": [
            "4164\n"
          ]
        },
        {
          "output_type": "execute_result",
          "data": {
            "text/html": [
              "<div>\n",
              "<style scoped>\n",
              "    .dataframe tbody tr th:only-of-type {\n",
              "        vertical-align: middle;\n",
              "    }\n",
              "\n",
              "    .dataframe tbody tr th {\n",
              "        vertical-align: top;\n",
              "    }\n",
              "\n",
              "    .dataframe thead th {\n",
              "        text-align: right;\n",
              "    }\n",
              "</style>\n",
              "<table border=\"1\" class=\"dataframe\">\n",
              "  <thead>\n",
              "    <tr style=\"text-align: right;\">\n",
              "      <th></th>\n",
              "      <th>No</th>\n",
              "      <th>Tanggal</th>\n",
              "      <th>Saluran</th>\n",
              "      <th>Saluran_Kategori_RKAP</th>\n",
              "      <th>Nama_Pembeli</th>\n",
              "      <th>Nama_Komoditi</th>\n",
              "      <th>Jenis_Komoditi</th>\n",
              "      <th>Merk_Komoditi</th>\n",
              "      <th>Kemasan</th>\n",
              "      <th>Satuan</th>\n",
              "      <th>Koli_DO</th>\n",
              "      <th>Kuantum_DO</th>\n",
              "      <th>Koli_Terjual</th>\n",
              "      <th>Kuantum_Terjual</th>\n",
              "    </tr>\n",
              "  </thead>\n",
              "  <tbody>\n",
              "    <tr>\n",
              "      <th>0</th>\n",
              "      <td>1</td>\n",
              "      <td>04-01-2021</td>\n",
              "      <td>RPK</td>\n",
              "      <td>RPK-NON BPNT/Program Sembako</td>\n",
              "      <td>RPK NINGRUM</td>\n",
              "      <td>GULA</td>\n",
              "      <td>GKP DN PT TEBU MAS</td>\n",
              "      <td>GULA POLOS</td>\n",
              "      <td>1.0</td>\n",
              "      <td>Kg</td>\n",
              "      <td>100</td>\n",
              "      <td>100.0</td>\n",
              "      <td>100</td>\n",
              "      <td>100.0</td>\n",
              "    </tr>\n",
              "    <tr>\n",
              "      <th>1</th>\n",
              "      <td>2</td>\n",
              "      <td>04-01-2021</td>\n",
              "      <td>RPK</td>\n",
              "      <td>RPK-NON BPNT/Program Sembako</td>\n",
              "      <td>RPK NINGRUM</td>\n",
              "      <td>MINYAK GORENG</td>\n",
              "      <td>MINYAK GORENG KITA</td>\n",
              "      <td>MINYAK GORENG KITA</td>\n",
              "      <td>1.0</td>\n",
              "      <td>L</td>\n",
              "      <td>24</td>\n",
              "      <td>24.0</td>\n",
              "      <td>24</td>\n",
              "      <td>24.0</td>\n",
              "    </tr>\n",
              "    <tr>\n",
              "      <th>2</th>\n",
              "      <td>3</td>\n",
              "      <td>04-01-2021</td>\n",
              "      <td>RPK</td>\n",
              "      <td>RPK-NON BPNT/Program Sembako</td>\n",
              "      <td>WISNU</td>\n",
              "      <td>DAGING KERBAU</td>\n",
              "      <td>HINDQUARTER</td>\n",
              "      <td>DAGING KITA AMROON</td>\n",
              "      <td>1.0</td>\n",
              "      <td>Kg</td>\n",
              "      <td>5</td>\n",
              "      <td>5.0</td>\n",
              "      <td>5</td>\n",
              "      <td>5.0</td>\n",
              "    </tr>\n",
              "    <tr>\n",
              "      <th>3</th>\n",
              "      <td>4</td>\n",
              "      <td>04-01-2021</td>\n",
              "      <td>RPK</td>\n",
              "      <td>RPK-NON BPNT/Program Sembako</td>\n",
              "      <td>RPK NINGRUM</td>\n",
              "      <td>TEPUNG TERIGU</td>\n",
              "      <td>TERIGU KITA</td>\n",
              "      <td>TERIGU KITA</td>\n",
              "      <td>1.0</td>\n",
              "      <td>Kg</td>\n",
              "      <td>40</td>\n",
              "      <td>40.0</td>\n",
              "      <td>40</td>\n",
              "      <td>40.0</td>\n",
              "    </tr>\n",
              "    <tr>\n",
              "      <th>4</th>\n",
              "      <td>5</td>\n",
              "      <td>04-01-2021</td>\n",
              "      <td>RPK</td>\n",
              "      <td>RPK-NON BPNT/Program Sembako</td>\n",
              "      <td>RPK AD</td>\n",
              "      <td>MINYAK GORENG</td>\n",
              "      <td>MINYAK GORENG KITA</td>\n",
              "      <td>MINYAK GORENG KITA</td>\n",
              "      <td>1.0</td>\n",
              "      <td>L</td>\n",
              "      <td>24</td>\n",
              "      <td>24.0</td>\n",
              "      <td>24</td>\n",
              "      <td>24.0</td>\n",
              "    </tr>\n",
              "  </tbody>\n",
              "</table>\n",
              "</div>"
            ],
            "text/plain": [
              "   No     Tanggal Saluran  ... Kuantum_DO Koli_Terjual Kuantum_Terjual\n",
              "0   1  04-01-2021     RPK  ...      100.0          100           100.0\n",
              "1   2  04-01-2021     RPK  ...       24.0           24            24.0\n",
              "2   3  04-01-2021     RPK  ...        5.0            5             5.0\n",
              "3   4  04-01-2021     RPK  ...       40.0           40            40.0\n",
              "4   5  04-01-2021     RPK  ...       24.0           24            24.0\n",
              "\n",
              "[5 rows x 14 columns]"
            ]
          },
          "metadata": {},
          "execution_count": 93
        }
      ]
    },
    {
      "cell_type": "markdown",
      "metadata": {
        "id": "CuHbzbNaTMJF"
      },
      "source": [
        "#VISUALISASI (KOMODITI YTD)"
      ]
    },
    {
      "cell_type": "code",
      "metadata": {
        "colab": {
          "base_uri": "https://localhost:8080/",
          "height": 561
        },
        "id": "6S1PtAUVZxBs",
        "outputId": "239b29ce-72e1-4035-d8f1-6feb4725a6f4"
      },
      "source": [
        "c = []\n",
        "d = []\n",
        "a = df2018[\"Nama_Komoditi\"].unique()\n",
        "for i in a :\n",
        "  a = df2018.loc[df2018.Nama_Komoditi == i]\n",
        "  b = len(a)\n",
        "  d.append(i)\n",
        "  c.append(b)\n",
        "fig1, ax1 = plt.subplots()\n",
        "plt.rcParams['figure.figsize'] = (20, 10)\n",
        "ax1.bar(x=d,height = c,width=0.2)\n",
        "  # Equal aspect ratio ensures that pie is drawn as a circle.\n",
        "plt.grid()\n",
        "plt.title(\"Komoditi 2018\",{'fontsize': 20})\n",
        "plt.show()"
      ],
      "execution_count": 94,
      "outputs": [
        {
          "output_type": "display_data",
          "data": {
            "image/png": "[encoded data removed]",
            "text/plain": [
              "<Figure size 1872x720 with 1 Axes>"
            ]
          },
          "metadata": {
            "needs_background": "light"
          }
        }
      ]
    },
    {
      "cell_type": "code",
      "metadata": {
        "colab": {
          "base_uri": "https://localhost:8080/",
          "height": 612
        },
        "id": "N2puhsha4Yzf",
        "outputId": "cb2cea16-a6ab-40d4-c9d1-1645a289e615"
      },
      "source": [
        "c = []\n",
        "d = []\n",
        "a = df2019[\"Nama_Komoditi\"].unique()\n",
        "for i in a :\n",
        "  a = df2019.loc[df2019.Nama_Komoditi == i]\n",
        "  b = len(a)\n",
        "  d.append(i)\n",
        "  c.append(b)\n",
        "fig1, ax1 = plt.subplots()\n",
        "plt.rcParams['figure.figsize'] = (20, 10)\n",
        "ax1.bar(x=d,height = c,width=0.2)\n",
        "  # Equal aspect ratio ensures that pie is drawn as a circle.\n",
        "plt.grid()\n",
        "plt.title(\"Komoditi 2019\",{'fontsize': 20})\n",
        "plt.show()"
      ],
      "execution_count": 95,
      "outputs": [
        {
          "output_type": "display_data",
          "data": {
            "image/png": "[encoded data removed]",
            "text/plain": [
              "<Figure size 1440x720 with 1 Axes>"
            ]
          },
          "metadata": {
            "needs_background": "light"
          }
        }
      ]
    },
    {
      "cell_type": "code",
      "metadata": {
        "id": "XB-dNRcDcz_C",
        "colab": {
          "base_uri": "https://localhost:8080/",
          "height": 612
        },
        "outputId": "a5f6dbef-d3a2-458a-ec79-1c6bcbaadc43"
      },
      "source": [
        "c = []\n",
        "d = []\n",
        "a = df2020[\"Nama_Komoditi\"].unique()\n",
        "for i in a :\n",
        "  a = df2020.loc[df2020.Nama_Komoditi == i]\n",
        "  b = len(a)\n",
        "  d.append(i)\n",
        "  c.append(b)\n",
        "fig1, ax1 = plt.subplots()\n",
        "plt.rcParams['figure.figsize'] = (26, 10)\n",
        "ax1.bar(x=d,height = c,width=0.2)\n",
        "  # Equal aspect ratio ensures that pie is drawn as a circle.\n",
        "plt.grid()\n",
        "plt.title(\"Komoditi 2020\",{'fontsize': 20})\n",
        "plt.show()"
      ],
      "execution_count": 96,
      "outputs": [
        {
          "output_type": "display_data",
          "data": {
            "image/png": "[encoded data removed]",
            "text/plain": [
              "<Figure size 1440x720 with 1 Axes>"
            ]
          },
          "metadata": {
            "needs_background": "light"
          }
        }
      ]
    },
    {
      "cell_type": "code",
      "metadata": {
        "colab": {
          "base_uri": "https://localhost:8080/",
          "height": 561
        },
        "id": "j4A6iYjIFXDZ",
        "outputId": "fcfb5e21-f03b-4ac6-81e1-a55a1a0b0741"
      },
      "source": [
        "c = []\n",
        "d = []\n",
        "a = df2021[\"Nama_Komoditi\"].unique()\n",
        "for i in a :\n",
        "  a = df2021.loc[df2021.Nama_Komoditi == i]\n",
        "  b = len(a)\n",
        "  d.append(i)\n",
        "  c.append(b)\n",
        "fig1, ax1 = plt.subplots()\n",
        "plt.rcParams['figure.figsize'] = (26, 10)\n",
        "ax1.bar(x=d,height = c,width=0.2)\n",
        "  # Equal aspect ratio ensures that pie is drawn as a circle.\n",
        "plt.grid()\n",
        "plt.title(\"Komoditi 2021\",{'fontsize': 20})\n",
        "plt.show()"
      ],
      "execution_count": 97,
      "outputs": [
        {
          "output_type": "display_data",
          "data": {
            "image/png": "[encoded data removed]",
            "text/plain": [
              "<Figure size 1872x720 with 1 Axes>"
            ]
          },
          "metadata": {
            "needs_background": "light"
          }
        }
      ]
    },
    {
      "cell_type": "markdown",
      "metadata": {
        "id": "9pSE0ehqpvOF"
      },
      "source": [
        "#ANALISA BERAS"
      ]
    },
    {
      "cell_type": "code",
      "metadata": {
        "id": "ex-MDkkI2Eqq"
      },
      "source": [
        "e = (df2018.loc[(df2018.Nama_Komoditi == \"BERAS\")])\n",
        "f = (df2019.loc[(df2019.Nama_Komoditi == \"BERAS\")])\n",
        "g = (df2020.loc[(df2020.Nama_Komoditi == \"BERAS\")])\n",
        "h = (df2021.loc[(df2021.Nama_Komoditi == \"BERAS\")])\n",
        "I = (df2018.loc[(df2018.Nama_Komoditi == \"BERAS\")&((df2018.Saluran == \"RPK\"))])\n",
        "J = (df2019.loc[(df2019.Nama_Komoditi == \"BERAS\")&((df2019.Saluran == \"RPK\"))])\n",
        "K = (df2020.loc[(df2020.Nama_Komoditi == \"BERAS\")&((df2020.Saluran == \"RPK\"))])\n",
        "L = (df2021.loc[(df2021.Nama_Komoditi == \"BERAS\")&((df2021.Saluran == \"RPK\"))])"
      ],
      "execution_count": 98,
      "outputs": []
    },
    {
      "cell_type": "code",
      "metadata": {
        "colab": {
          "base_uri": "https://localhost:8080/",
          "height": 714
        },
        "id": "rY5mRP0QmH4R",
        "outputId": "80398d8e-ce1d-4401-f477-8453c4413028"
      },
      "source": [
        "eee = e[\"Kuantum_DO\"]\n",
        "fff = f[\"Kuantum_DO\"]\n",
        "ggg = g[\"Kuantum_DO\"]\n",
        "hhh = h[\"Kuantum_DO\"]\n",
        "listlist = [eee,fff,ggg,hhh]\n",
        "indeks_tahun = 18\n",
        "sum_i = []\n",
        "for i in listlist:\n",
        "  print(\"Total Beras pada tahun 20\"+str(indeks_tahun)+\" adalah = \"+str(sum(i))+\" Kg\")\n",
        "  indeks_tahun +=1\n",
        "  sum_i.append(sum(i))\n",
        "print(\"\\n\")\n",
        "cc = [\"Tahun 2018\",\"Beras 2019\",\"Beras 2020\",\"Beras 2021\"]\n",
        "fig1, ax1 = plt.subplots()\n",
        "plt.rcParams['figure.figsize'] = (20, 10)\n",
        "ax1.bar(x=cc,height = sum_i,width=0.2)\n",
        "plt.yscale(\"log\")\n",
        "plt.plot(cc,sum_i)\n",
        "plt.title(\"Banyaknya Beras yang Beredar(2018-2021)\",{'fontsize': 20})\n",
        "plt.grid(axis = \"both\",which= 'minor')\n",
        "plt.ylabel(\"Dalam Kg\",{\"fontsize\" : 15})\n",
        "plt.show()  "
      ],
      "execution_count": 181,
      "outputs": [
        {
          "output_type": "stream",
          "name": "stdout",
          "text": [
            "Total Beras pada tahun 2018 adalah = 2210985.999999999 Kg\n",
            "Total Beras pada tahun 2019 adalah = 4419868.8 Kg\n",
            "Total Beras pada tahun 2020 adalah = 5022967.2499999935 Kg\n",
            "Total Beras pada tahun 2021 adalah = 1305448.15 Kg\n",
            "\n",
            "\n"
          ]
        },
        {
          "output_type": "display_data",
          "data": {
            "image/png": "[encoded data removed]",
            "text/plain": [
              "<Figure size 1440x720 with 1 Axes>"
            ]
          },
          "metadata": {
            "needs_background": "light"
          }
        }
      ]
    },
    {
      "cell_type": "code",
      "metadata": {
        "id": "FDy-UZzfTQfH",
        "colab": {
          "base_uri": "https://localhost:8080/",
          "height": 612
        },
        "outputId": "55059d81-f11c-414d-e881-4008ae51c7a1"
      },
      "source": [
        "aa = [len(e),len(f),len(g),len(h)]\n",
        "cc = [\"Beras 2018\",\"Beras 2019\",\"Beras 2020\",\"Beras 2021\"]\n",
        "\n",
        "fig1, ax1 = plt.subplots()\n",
        "plt.rcParams['figure.figsize'] = (20, 10)\n",
        "ax1.bar(x=cc,height = aa,width=0.2)\n",
        "plt.grid(axis = \"y\")\n",
        "plt.title(\"Frekuensi Beras yang Beredar (2018 - 2021)\",{'fontsize': 20})\n",
        "plt.show()"
      ],
      "execution_count": 101,
      "outputs": [
        {
          "output_type": "display_data",
          "data": {
            "image/png": "[encoded data removed]",
            "text/plain": [
              "<Figure size 1440x720 with 1 Axes>"
            ]
          },
          "metadata": {
            "needs_background": "light"
          }
        }
      ]
    },
    {
      "cell_type": "code",
      "metadata": {
        "id": "osNfFZSowi1W",
        "colab": {
          "base_uri": "https://localhost:8080/",
          "height": 714
        },
        "outputId": "1f92fb8e-b23f-436b-9f1c-cb7caafaf7e7"
      },
      "source": [
        "II = I[\"Kuantum_DO\"]\n",
        "JJ = J[\"Kuantum_DO\"]\n",
        "KK = K[\"Kuantum_DO\"]\n",
        "LL = L[\"Kuantum_DO\"]\n",
        "listlist = [II,JJ,KK,LL]\n",
        "indeks_tahun = 18\n",
        "sum_i = []\n",
        "for i in listlist:\n",
        "  print(\"Total Beras pada tahun 20\"+str(indeks_tahun)+\" adalah = \"+str(sum(i))+\" Kg\")\n",
        "  indeks_tahun +=1\n",
        "  sum_i.append(sum(i))\n",
        "print(\"\\n\")\n",
        "cc = [\"Tahun 2018\",\"Beras 2019\",\"Beras 2020\",\"Beras 2021\"]\n",
        "fig1, ax1 = plt.subplots()\n",
        "plt.rcParams['figure.figsize'] = (20, 10)\n",
        "ax1.bar(x=cc,height = sum_i,width=0.2)\n",
        "plt.yscale(\"log\")\n",
        "plt.plot(cc,sum_i)\n",
        "plt.title(\"Banyaknya Beras yang Beredar terhadap RKP(2018-2021)\",{'fontsize': 20})\n",
        "plt.grid(axis = \"both\",which= 'minor')\n",
        "plt.ylabel(\"Dalam Kg\",{\"fontsize\" : 15})\n",
        "plt.show()  "
      ],
      "execution_count": 180,
      "outputs": [
        {
          "output_type": "stream",
          "name": "stdout",
          "text": [
            "Total Beras pada tahun 2018 adalah = 1832104.2999999993 Kg\n",
            "Total Beras pada tahun 2019 adalah = 3365682.299999999 Kg\n",
            "Total Beras pada tahun 2020 adalah = 3799514.2500000033 Kg\n",
            "Total Beras pada tahun 2021 adalah = 911992.1499999999 Kg\n",
            "\n",
            "\n"
          ]
        },
        {
          "output_type": "display_data",
          "data": {
            "image/png": "[encoded data removed]",
            "text/plain": [
              "<Figure size 1440x720 with 1 Axes>"
            ]
          },
          "metadata": {
            "needs_background": "light"
          }
        }
      ]
    },
    {
      "cell_type": "markdown",
      "metadata": {
        "id": "6fV1Zl21C7j0"
      },
      "source": [
        "#PERHITUNGAN BERAS YANG DIDISTRIBUSI DI WILAYAH SURAKARTA"
      ]
    },
    {
      "cell_type": "code",
      "metadata": {
        "colab": {
          "base_uri": "https://localhost:8080/"
        },
        "id": "j21CVAwS5gyj",
        "outputId": "22348166-79b3-4f0f-feb3-1d12dcafba49"
      },
      "source": [
        "Bvm = df2019[\"Nama_Pembeli\"].unique().tolist()\n",
        "xc = []\n",
        "for i in vm :\n",
        "  if \"SOLO\" in i:\n",
        "    xc.append(i)\n",
        "  elif \"Solo\" in i:\n",
        "    xc.append(i)\n",
        "  elif \"Surakarta\" in i:\n",
        "    xc.append(i)\n",
        "for i in xc :\n",
        "  aa = (df2019.loc[(df2019.Nama_Komoditi == \"BERAS\") +(df2019.Nama_Pembeli == i)])\n",
        "VM = df2019[df2019.Nama_Pembeli.isin(xc)]\n",
        "print(\"Total beras yang terdistribusi di wilayah Surakarta adalah \" + str(sum(VM[\"Kuantum_Terjual\"]))+\" Kg\")\n",
        "print(\"Pembeli yang berasal dari Solo sebagai berikut:\\n\",xc)"
      ],
      "execution_count": 183,
      "outputs": [
        {
          "output_type": "stream",
          "name": "stdout",
          "text": [
            "Total beras yang terdistribusi di wilayah Surakarta adalah 18367.0 Kg\n",
            "Pembeli yang berasal dari Solo sebagai berikut:\n",
            " ['Hotel Megaland Surakarta', 'Depo Solo', 'MITRA SOLO', 'RPK BERKAH SOLO', 'RPK Primkop Kartika D-02 Warastratama (Kodim D-02 Surakarta)', 'RPK Primkop Kartika D-01 Warastratama (Korem D-01 Surakarta)', 'TPK Pasar Harjodaksino Surakarta Ade Irawan', 'Koperasi Bank Bukopin KCU Solo', 'RS JIH SOLO', 'PT. Asuransi Jasindo (persero) KC Solo', 'RPK POLRESTA SOLO', 'Solo Bistro', 'Hotel Syariah Solo', 'TPK Pasar Nusukan Surakarta Sri Supeni', 'Ayam Geprek Abang Ireng Outlet ISI (Kantor Pusat Solo)', 'TPK Pasar Rejosari Surakarta Ngadimin', 'Hotel lampion Surakarta', 'PT. Taspen Cabang Surakarta']\n"
          ]
        },
        {
          "output_type": "stream",
          "name": "stderr",
          "text": [
            "/usr/local/lib/python3.7/dist-packages/pandas/core/computation/expressions.py:204: UserWarning: evaluating in Python space because the '+' operator is not supported by numexpr for the bool dtype, use '|' instead\n",
            "  f\"evaluating in Python space because the {repr(op_str)} \"\n"
          ]
        }
      ]
    }
  ]
}